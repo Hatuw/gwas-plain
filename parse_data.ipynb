{
 "cells": [
  {
   "cell_type": "code",
   "execution_count": 1,
   "metadata": {},
   "outputs": [],
   "source": [
    "import pandas as pd\n",
    "import numpy as np"
   ]
  },
  {
   "cell_type": "code",
   "execution_count": 4,
   "metadata": {},
   "outputs": [],
   "source": [
    "data_file = './data/pca-data.txt'"
   ]
  },
  {
   "cell_type": "code",
   "execution_count": 75,
   "metadata": {},
   "outputs": [],
   "source": [
    "data = pd.read_csv(data_file, sep='\\t', index_col=False)\n",
    "data.set_index('Unnamed: 0', inplace=True)\n",
    "data.head()\n",
    "# write pheno.txt\n",
    "data.iloc[:, 0].to_csv('./data/pheno.txt', sep='\\t', header=None, index=None)\n",
    "\n",
    "# write geno.txt\n",
    "data.iloc[:, 1:].to_csv('./data/geno.txt', sep='\\t', header=None, index=None)\n",
    "\n",
    "# write pos.txt\n",
    "pos = pd.DataFrame(data.columns[1:], \n",
    "                   index=[1 for _ in range(data.shape[1]-1)])\n",
    "pos.to_csv('./data/pos.txt', sep=' ', header=None)\n",
    "\n",
    "# write cov.txt\n",
    "cov = np.zeros((data.shape[1]-1, 10), dtype=np.uint8)\n",
    "cov = pd.DataFrame(cov)\n",
    "cov.to_csv('./data/cov.txt', sep='\\t', header=None, index=None)"
   ]
  }
 ],
 "metadata": {
  "kernelspec": {
   "display_name": "Python 3",
   "language": "python",
   "name": "python3"
  },
  "language_info": {
   "codemirror_mode": {
    "name": "ipython",
    "version": 3
   },
   "file_extension": ".py",
   "mimetype": "text/x-python",
   "name": "python",
   "nbconvert_exporter": "python",
   "pygments_lexer": "ipython3",
   "version": "3.6.5"
  }
 },
 "nbformat": 4,
 "nbformat_minor": 2
}
