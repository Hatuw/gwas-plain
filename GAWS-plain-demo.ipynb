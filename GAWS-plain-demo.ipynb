{
 "cells": [
  {
   "cell_type": "markdown",
   "metadata": {},
   "source": [
    "# GAWS 明文实现\n",
    "\n",
    "主要包括以下算法：\n",
    "\n",
    "- SNP过滤\n",
    "- PCA\n",
    "- 优势比\n",
    "- 趋势卡方计算（检验）"
   ]
  },
  {
   "cell_type": "markdown",
   "metadata": {},
   "source": [
    "## 1. SNP过滤"
   ]
  },
  {
   "cell_type": "code",
   "execution_count": null,
   "metadata": {},
   "outputs": [],
   "source": []
  },
  {
   "cell_type": "markdown",
   "metadata": {},
   "source": [
    "## 2. PCA"
   ]
  },
  {
   "cell_type": "code",
   "execution_count": null,
   "metadata": {},
   "outputs": [],
   "source": []
  },
  {
   "cell_type": "markdown",
   "metadata": {},
   "source": [
    "## 3. 优势比"
   ]
  },
  {
   "cell_type": "code",
   "execution_count": null,
   "metadata": {},
   "outputs": [],
   "source": []
  },
  {
   "cell_type": "markdown",
   "metadata": {},
   "source": [
    "## 4. 趋势卡方计算（检验）\n",
    "\n",
    "### 原理：\n",
    "\n",
    "如下面$2\\times3$的列联表。其中，$R_1=N_{11}+N_{12}+N_{13}$，$C_1=N_{11}+N_{21}$，etc.\n",
    "\n",
    "|         |B=1      |B=2      |B=3      |sum      |\n",
    "|:-------:|:-------:|:-------:|:-------:|:-------:|\n",
    "|A=1      |$N_{11}$ |$N_{12}$ |$N_{13}$ |$R_1$    |\n",
    "|A=2      |$N_{21}$ |$N_{22}$ |$N_{23}$ |$R_2$    |\n",
    "|sum      |$C_1$    |$C_2$    |$C_3$    |$N$      |\n",
    "\n",
    "首先计算：①$T=\\sum_{i=1}^k t_{i}(N_{1i}R_2 - N_{2i}R_1)$\n",
    "\n",
    "然后计算②方差: $Var(T) = \\frac{R_1 R_2}{N}(\\sum_{i=1}^{k} t_i^2 C_i(N-C_i) - 2\\sum_{i=1}^{k-1}\\sum_{j=i+1}^{k}t_i t_j C_i C_j)$\n",
    "\n",
    "最后计算: ③  $\\frac{T}{\\sqrt{Var(T)}}$\n",
    "\n",
    "注：对于上面权重 $t$ 的选择，一般选择$(1, 1, 0)$ / $(0, 1, 1)$ / $(0, 1, 2)$\n",
    "\n",
    "### 例子:\n",
    "\n",
    "假设有如下列联表：\n",
    "\n",
    "|         | Genotype aa | Genotype Aa | Genotype AA | Sum |\n",
    "|:-------:|:-----------:|:-----------:|:-----------:|:---:|\n",
    "|Controls | 20          | 20          | 20          |60   |\n",
    "|Cases    | 10          | 20          | 30          |60   |\n",
    "|Sum      | 30          | 40          | 50          |120  |\n"
   ]
  },
  {
   "cell_type": "code",
   "execution_count": null,
   "metadata": {},
   "outputs": [],
   "source": []
  }
 ],
 "metadata": {
  "kernelspec": {
   "display_name": "Python 3",
   "language": "python",
   "name": "python3"
  },
  "language_info": {
   "codemirror_mode": {
    "name": "ipython",
    "version": 3
   },
   "file_extension": ".py",
   "mimetype": "text/x-python",
   "name": "python",
   "nbconvert_exporter": "python",
   "pygments_lexer": "ipython3",
   "version": "3.5.4rc1"
  }
 },
 "nbformat": 4,
 "nbformat_minor": 2
}
